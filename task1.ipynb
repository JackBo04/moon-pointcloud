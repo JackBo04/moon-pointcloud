{
 "cells": [
  {
   "cell_type": "code",
   "execution_count": 1,
   "metadata": {},
   "outputs": [
    {
     "name": "stdout",
     "output_type": "stream",
     "text": [
      "Jupyter environment detected. Enabling Open3D WebVisualizer.\n",
      "[Open3D INFO] WebRTC GUI backend enabled.\n",
      "[Open3D INFO] WebRTCWindowSystem: HTTP handshake server disabled.\n"
     ]
    }
   ],
   "source": [
    "import open3d as o3d\n",
    "import matplotlib.pyplot as plt\n",
    "import numpy as np"
   ]
  },
  {
   "cell_type": "markdown",
   "metadata": {},
   "source": [
    "点云文件读取\n",
    "读取TXT文件，转化为ply文件，有关文件格式的信息可以看中文文档"
   ]
  },
  {
   "cell_type": "code",
   "execution_count": 17,
   "metadata": {},
   "outputs": [
    {
     "name": "stdout",
     "output_type": "stream",
     "text": [
      "->正在加载点云... \n",
      "PointCloud with 11769609 points.\n",
      "->正在读取点云\n",
      "PointCloud with 11769609 points.\n"
     ]
    }
   ],
   "source": [
    "# 读取点云\n",
    "\n",
    "print(\"->正在加载点云... \")\n",
    "# 记得改路径\n",
    "pcd = o3d.io.read_point_cloud(\"F:/1Bo7_vs/basic_data/input.txt\", format='xyz')\n",
    "\n",
    "print(pcd)\n",
    "\n",
    "print(\"->正在读取点云\")\n",
    "o3d.io.write_point_cloud(\"transformed.ply\", pcd)\t\n",
    "print(pcd)"
   ]
  },
  {
   "cell_type": "markdown",
   "metadata": {},
   "source": [
    "点云可视化\n",
    "数据大比较慢，请耐心等待(待优化)"
   ]
  },
  {
   "cell_type": "code",
   "execution_count": null,
   "metadata": {},
   "outputs": [
    {
     "name": "stdout",
     "output_type": "stream",
     "text": [
      "->正在加载点云... \n",
      "PointCloud with 11769609 points.\n",
      "->正在可视化点云\n"
     ]
    }
   ],
   "source": [
    "\n",
    "print(\"->正在加载点云... \")\n",
    "pcd = o3d.io.read_point_cloud(\"transformed.ply\")\n",
    "print(pcd)\n",
    "\n",
    "print(\"->正在可视化点云\")\n",
    "o3d.visualization.draw_geometries([pcd])\n"
   ]
  },
  {
   "cell_type": "markdown",
   "metadata": {},
   "source": [
    "点云的体素下采样\n",
    "Open3D 的函数失效了。。。实际上不能降采样"
   ]
  },
  {
   "cell_type": "code",
   "execution_count": 19,
   "metadata": {},
   "outputs": [
    {
     "name": "stdout",
     "output_type": "stream",
     "text": [
      "->正在加载点云... \n",
      "PointCloud with 11769609 points.\n",
      "->正在可视化原始点云\n",
      "->正在体素下采样...\n",
      "PointCloud with 11769609 points.\n",
      "->正在可视化下采样点云\n"
     ]
    }
   ],
   "source": [
    "import open3d as o3d\n",
    "import numpy as np\n",
    "\n",
    "print(\"->正在加载点云... \")\n",
    "pcd = o3d.io.read_point_cloud(\"trans.pcd\")\n",
    "print(pcd)\n",
    "\n",
    "print(\"->正在可视化原始点云\")\n",
    "o3d.visualization.draw_geometries([pcd])\n",
    "\n",
    "print(\"->正在体素下采样...\")\n",
    "voxel_size = 0.5\n",
    "downpcd = pcd.voxel_down_sample(voxel_size)\n",
    "print(downpcd)\n",
    "\n",
    "print(\"->正在可视化下采样点云\")\n",
    "o3d.visualization.draw_geometries([downpcd])\n"
   ]
  },
  {
   "cell_type": "markdown",
   "metadata": {},
   "source": [
    "统计滤波\n",
    "\n",
    "点云数据中存在大量噪声点，这些噪声点会影响后续的分析结果。因此，需要对点云数据进行统计滤波，去除噪声点。\n",
    "\n",
    "radius_outlier_removal 移除给定球体中几乎没有邻居的点。需要两个参数：\n",
    "\n",
    "num_points，邻域球内的最少点数，低于该值的点为噪声点\n",
    "\n",
    "radius ，邻域半径的大小"
   ]
  },
  {
   "cell_type": "code",
   "execution_count": 24,
   "metadata": {},
   "outputs": [
    {
     "name": "stdout",
     "output_type": "stream",
     "text": [
      "->正在加载点云... \n",
      "原始点云： PointCloud with 11769609 points.\n",
      "->正在进行统计滤波...\n",
      "统计滤波后的点云： PointCloud with 10820836 points.\n",
      "噪声点云： PointCloud with 948773 points.\n"
     ]
    }
   ],
   "source": [
    "\n",
    "\n",
    "print(\"->正在加载点云... \")\n",
    "pcd = o3d.io.read_point_cloud(\"trans.pcd\")\n",
    "print(\"原始点云：\", pcd)\n",
    "\n",
    "# ------------------------- 统计滤波 --------------------------\n",
    "print(\"->正在进行统计滤波...\")\n",
    "num_neighbors = 20 # K邻域点的个数\n",
    "std_ratio = 0.5 # 标准差乘数\n",
    "# 执行统计滤波，返回滤波后的点云sor_pcd和对应的索引ind\n",
    "sor_pcd, ind = pcd.remove_statistical_outlier(num_neighbors, std_ratio)\n",
    "sor_pcd.paint_uniform_color([0, 0, 1])\n",
    "print(\"统计滤波后的点云：\", sor_pcd)\n",
    "\n",
    "#RGB,此处B(ule)值为1，显示为蓝色，噪声点云为红色\n",
    "\n",
    "sor_pcd.paint_uniform_color([0, 0, 1])\n",
    "# 提取噪声点云\n",
    "sor_noise_pcd = pcd.select_by_index(ind,invert = True)\n",
    "print(\"噪声点云：\", sor_noise_pcd)\n",
    "sor_noise_pcd.paint_uniform_color([1, 0, 0])\n",
    "# ===========================================================\n",
    "\n",
    "# 可视化统计滤波后的点云和噪声点云\n",
    "o3d.visualization.draw_geometries([sor_pcd, sor_noise_pcd])\n"
   ]
  },
  {
   "cell_type": "markdown",
   "metadata": {},
   "source": [
    "点云法线估计(计算坡度的重要依据)"
   ]
  },
  {
   "cell_type": "code",
   "execution_count": 25,
   "metadata": {},
   "outputs": [
    {
     "name": "stdout",
     "output_type": "stream",
     "text": [
      "->正在加载点云... \n",
      "PointCloud with 11769609 points.\n",
      "->正在估计法线并可视化...\n",
      "->正在打印前10个点的法向量...\n",
      "[[0. 0. 1.]\n",
      " [0. 0. 1.]\n",
      " [0. 0. 1.]\n",
      " [0. 0. 1.]\n",
      " [0. 0. 1.]\n",
      " [0. 0. 1.]\n",
      " [0. 0. 1.]\n",
      " [0. 0. 1.]\n",
      " [0. 0. 1.]\n",
      " [0. 0. 1.]]\n"
     ]
    }
   ],
   "source": [
    "print(\"->正在加载点云... \")\n",
    "pcd = o3d.io.read_point_cloud(\"trans.pcd\")\n",
    "print(pcd)\n",
    "\n",
    "print(\"->正在估计法线并可视化...\")\n",
    "radius = 0.01   # 搜索半径\n",
    "max_nn = 20     # 邻域内用于估算法线的最大点数\n",
    "pcd.estimate_normals(search_param=o3d.geometry.KDTreeSearchParamHybrid(radius, max_nn))     # 执行法线估计\n",
    "o3d.visualization.draw_geometries([pcd], point_show_normal=True)\n",
    "\n",
    "print(\"->正在打印前10个点的法向量...\")\n",
    "print(np.asarray(pcd.normals)[:10, :])"
   ]
  },
  {
   "cell_type": "markdown",
   "metadata": {},
   "source": [
    "点云分割\n",
    "DBSCAN 聚类分割\n",
    "Open3D实现了DBSCAN[1996]，这是一种基于密度的聚类算法。该算法在cluster_dbscan中实现，需要两个参数：eps 为同一簇内的最大点间距，min_points 定义有效聚类的最小点数。函数返回标签 label，其中label = -1表示噪声。\n",
    "\n",
    "注：现在还未找到合适的eps和min_points参数，聚类效果差，等待后续工作。"
   ]
  },
  {
   "cell_type": "code",
   "execution_count": 31,
   "metadata": {},
   "outputs": [
    {
     "name": "stdout",
     "output_type": "stream",
     "text": [
      "->正在加载点云... \n",
      "PointCloud with 11769609 points.\n",
      "->正在DBSCAN聚类...\n",
      "[Open3D DEBUG] Precompute neighbors.\n",
      "[Open3D DEBUG] Done Precompute neighbors.\n",
      "[Open3D DEBUG] Compute Clusters\n",
      "[Open3D DEBUG] Done Compute Clusters: 1\n",
      "point cloud has 1 clusters\n"
     ]
    }
   ],
   "source": [
    "print(\"->正在加载点云... \")\n",
    "pcd = o3d.io.read_point_cloud(\"trans.pcd\")\n",
    "print(pcd)\n",
    "\n",
    "print(\"->正在DBSCAN聚类...\")\n",
    "eps = 15           # 同一聚类中最大点间距\n",
    "min_points = 10     # 有效聚类的最小点数\n",
    "with o3d.utility.VerbosityContextManager(o3d.utility.VerbosityLevel.Debug) as cm:\n",
    "    labels = np.array(pcd.cluster_dbscan(eps, min_points, print_progress=True))\n",
    "max_label = labels.max()    # 获取聚类标签的最大值 [-1,0,1,2,...,max_label]，label = -1 为噪声，因此总聚类个数为 max_label + 1\n",
    "print(f\"point cloud has {max_label + 1} clusters\")\n",
    "colors = plt.get_cmap(\"tab20\")(labels / (max_label if max_label > 0 else 1))\n",
    "colors[labels < 0] = 0  # labels = -1 的簇为噪声，以黑色显示\n",
    "pcd.colors = o3d.utility.Vector3dVector(colors[:, :3])\n",
    "o3d.visualization.draw_geometries([pcd])"
   ]
  },
  {
   "cell_type": "markdown",
   "metadata": {},
   "source": [
    "RANSAC 平面分割\n",
    "蓝色为平面\n",
    "\n",
    "注：未找到最佳的distance_threshold，可能需要分块处理加多次尝试，不可能对原始点云数据整体拟合一个平面"
   ]
  },
  {
   "cell_type": "code",
   "execution_count": 34,
   "metadata": {},
   "outputs": [
    {
     "name": "stdout",
     "output_type": "stream",
     "text": [
      "->正在加载点云... \n",
      "PointCloud with 11769609 points.\n",
      "->正在RANSAC平面分割...\n",
      "Plane equation: -0.02x + 0.02y + 1.00z + -6767.69 = 0\n",
      "PointCloud with 432067 points.\n",
      "PointCloud with 11337542 points.\n"
     ]
    }
   ],
   "source": [
    "print(\"->正在加载点云... \")\n",
    "pcd = o3d.io.read_point_cloud(\"trans.pcd\")\n",
    "print(pcd)\n",
    "\n",
    "print(\"->正在RANSAC平面分割...\")\n",
    "distance_threshold = 4    # 内点到平面模型的最大距离\n",
    "ransac_n = 3                # 用于拟合平面的采样点数\n",
    "num_iterations = 1000       # 最大迭代次数\n",
    "\n",
    "# 返回模型系数plane_model和内点索引inliers，并赋值\n",
    "plane_model, inliers = pcd.segment_plane(distance_threshold, ransac_n, num_iterations)\n",
    "\n",
    "# 输出平面方程\n",
    "[a, b, c, d] = plane_model\n",
    "print(f\"Plane equation: {a:.2f}x + {b:.2f}y + {c:.2f}z + {d:.2f} = 0\")\n",
    "\n",
    "# 平面内点点云\n",
    "inlier_cloud = pcd.select_by_index(inliers)\n",
    "inlier_cloud.paint_uniform_color([0, 0, 1.0])\n",
    "print(inlier_cloud)\n",
    "\n",
    "# 平面外点点云\n",
    "outlier_cloud = pcd.select_by_index(inliers, invert=True)\n",
    "outlier_cloud.paint_uniform_color([1.0, 0, 0])\n",
    "print(outlier_cloud)\n",
    "\n",
    "# 可视化平面分割结果\n",
    "o3d.visualization.draw_geometries([inlier_cloud, outlier_cloud])"
   ]
  },
  {
   "cell_type": "markdown",
   "metadata": {},
   "source": [
    "点云曲面重建\n",
    "在许多情况下，我们希望生成密集的三维几何体，即三角形网格。然而，从多视图立体方法或深度传感器中，我们只能获得非结构化点云。要从非结构化输入中获得三角形网格，我们需要执行曲面重建。文献中有几种方法，Open3D目前实现了以下功能：\n",
    "\n",
    "Alpha shapes [Edelsbrunner1983]\n",
    "Ball pivoting [Bernardini1999]\n",
    "Poisson surface reconstruction [Kazhdan2006]"
   ]
  },
  {
   "cell_type": "markdown",
   "metadata": {},
   "source": [
    "Alpha shapes\n",
    "Alpha shapes 是凸壳的推广。正如这里所描述的，我们可以直观地认为Alpha shapes如下：想象一个巨大的冰淇淋，其中包含点S作为硬巧克力块。使用其中一个球形冰淇淋勺，我们可以在不撞到巧克力块的情况下雕刻出冰淇淋块的所有部分，从而甚至在内部雕刻出孔（例如，仅从外部移动勺子无法触及的部分）。我们最终将得到一个（不一定是凸的）对象，该对象以帽、弧和点为边界。如果我们现在把所有的面拉直成三角形和线段，我们就可以直观地描述S的Alpha shapes。\n",
    "\n",
    "Open3D实现了 create_from_point_cloud_alpha_shape 方法\n",
    "\n",
    "可调参数：alpha：控制凸壳的大小，值越大，凸壳越大。\n",
    "直观来说值越小越接近点云数据的形状\n",
    "消耗的计算资源大，可能导致内核崩溃"
   ]
  },
  {
   "cell_type": "code",
   "execution_count": 2,
   "metadata": {},
   "outputs": [
    {
     "name": "stdout",
     "output_type": "stream",
     "text": [
      "->正在加载点云... \n"
     ]
    }
   ],
   "source": [
    "\n",
    "# --------------------------- 加载点云 ---------------------------\n",
    "print(\"->正在加载点云... \")\n",
    "pcd = o3d.io.read_point_cloud(\"trans.pcd\")\n",
    "print(\"原始点云：\", pcd)\n",
    "# ==============================================================\n",
    "\n",
    "# ------------------------- Alpha shapes -----------------------\n",
    "alpha = 0.06\n",
    "print(f\"alpha={alpha:.3f}\")\n",
    "mesh = o3d.geometry.TriangleMesh.create_from_point_cloud_alpha_shape(pcd, alpha)\n",
    "mesh.compute_vertex_normals()\n",
    "o3d.visualization.draw_geometries([mesh], mesh_show_back_face=True)\n",
    "# ==============================================================\n"
   ]
  },
  {
   "cell_type": "markdown",
   "metadata": {},
   "source": [
    "Ball pivoting\n",
    "Ball pivoting（BPA）[Bernardini1999]是一种与Alpha shapes相关的曲面重建方法。直观地说，想象一个具有给定半径的3D球，我们将其落在点云上。如果它击中任何3个点（并且没有穿过这3个点），它将创建一个三角形。然后，该算法从现有三角形的边开始旋转，每当它击中球未落下的3个点时，我们创建另一个三角形。\n",
    "\n",
    "open3D 对应的函数为 create_from_point_cloud_ball_pivoting"
   ]
  },
  {
   "cell_type": "markdown",
   "metadata": {},
   "source": [
    "读取ply文件的信息(transformed.ply中只包含顶点数据，不包含网格数据)\n",
    "接下来我们将创建网格数据"
   ]
  },
  {
   "cell_type": "code",
   "execution_count": 3,
   "metadata": {},
   "outputs": [
    {
     "name": "stdout",
     "output_type": "stream",
     "text": [
      "[Open3D WARNING] geometry::TriangleMesh appears to be a geometry::PointCloud (only contains vertices, but no triangles).\n",
      "顶点数: 11769609\n",
      "面数: 0\n"
     ]
    }
   ],
   "source": [
    "# 读取PLY文件\n",
    "mesh = o3d.io.read_triangle_mesh(\"transformed.ply\")\n",
    "\n",
    "# 打印三角网格的顶点数和面数\n",
    "print(\"顶点数:\", len(mesh.vertices))\n",
    "print(\"面数:\", len(mesh.triangles))"
   ]
  },
  {
   "cell_type": "markdown",
   "metadata": {},
   "source": [
    "使用numpy数组读取点云的坐标数据"
   ]
  },
  {
   "cell_type": "code",
   "execution_count": 4,
   "metadata": {},
   "outputs": [
    {
     "name": "stdout",
     "output_type": "stream",
     "text": [
      "顶点数据形状: (11769609, 3)\n",
      "前五个顶点: [[ 69263.7 144566.7   5304.8]\n",
      " [ 69263.7 144562.2   5304. ]\n",
      " [ 69263.7 144557.7   5303.2]\n",
      " [ 69263.7 144553.2   5302.4]\n",
      " [ 69263.7 144548.7   5301.8]]\n"
     ]
    }
   ],
   "source": [
    "import open3d as o3d\n",
    "\n",
    "# 读取PLY文件\n",
    "pcd = o3d.io.read_point_cloud(\"transformed.ply\")\n",
    "\n",
    "# 获取顶点数据\n",
    "vertices = np.asarray(pcd.points)\n",
    "\n",
    "# 打印顶点数据的形状和前几个顶点\n",
    "print(\"顶点数据形状:\", vertices.shape)\n",
    "print(\"前五个顶点:\", vertices[:5])\n"
   ]
  },
  {
   "cell_type": "markdown",
   "metadata": {},
   "source": [
    "Poisson surface reconstruction [Kazhdan2006]\n",
    "根据点云数据，创造三角网格数据，并保存为mesh_with_triangles.ply\n",
    "\n",
    "泊松曲面重建方法[Kazhdan2006]解决了一个正则化优化问题，以获得光滑曲面。因此，泊松曲面重建比上述方法更可取，因为它们会产生非平滑结果，因为点云的点也是生成的三角形网格的顶点，无需任何修改。\n",
    "\n",
    "Open3D对应的方法为 create_from_point_cloud_poisson，这基本上是Kazhdan代码的包装。该函数的一个重要参数是depth，它定义了用于曲面重建的八叉树的深度，因此表示生成的三角形网格的分辨率。depth值越高，网格的细节就越多。"
   ]
  },
  {
   "cell_type": "code",
   "execution_count": 11,
   "metadata": {},
   "outputs": [
    {
     "data": {
      "text/plain": [
       "True"
      ]
     },
     "execution_count": 11,
     "metadata": {},
     "output_type": "execute_result"
    }
   ],
   "source": [
    "\n",
    "# 读取PLY文件\n",
    "pcd = o3d.io.read_point_cloud(\"transformed.ply\")\n",
    "\n",
    "# 估计点云的法线\n",
    "pcd.estimate_normals()\n",
    "\n",
    "# 使用点云数据创建三角网格\n",
    "mesh, densities = o3d.geometry.TriangleMesh.create_from_point_cloud_poisson(pcd, depth=9)\n",
    "\n",
    "# 可选：平滑网格以提高三角网格质量\n",
    "\n",
    "mesh.filter_smooth_taubin(number_of_iterations=1000, lambda_filter=0.5, mu=-0.53)\n",
    "\n",
    "# 保存三角网格到文件\n",
    "o3d.io.write_triangle_mesh(\"mesh_with_triangles.ply\", mesh)\n"
   ]
  },
  {
   "cell_type": "code",
   "execution_count": 14,
   "metadata": {},
   "outputs": [
    {
     "name": "stdout",
     "output_type": "stream",
     "text": [
      "TriangleMesh with 231689 points and 463128 triangles.\n"
     ]
    }
   ],
   "source": [
    "#一些可视化\n",
    "print(mesh)\n",
    "#设置为蓝色\n",
    "mesh.paint_uniform_color([0, 0, 1])\n",
    "o3d.visualization.draw_geometries([mesh])"
   ]
  },
  {
   "cell_type": "code",
   "execution_count": 28,
   "metadata": {},
   "outputs": [],
   "source": [
    "o3d.visualization.draw_geometries([pcd])"
   ]
  },
  {
   "cell_type": "code",
   "execution_count": 27,
   "metadata": {},
   "outputs": [
    {
     "name": "stdout",
     "output_type": "stream",
     "text": [
      "->正在体素下采样...\n",
      "PointCloud with 9 points.\n",
      "->正在可视化下采样点云\n",
      "PointCloud with 9 points.\n"
     ]
    }
   ],
   "source": [
    "#尝试降采样依旧失败。。。。\n",
    "print(\"->正在体素下采样...\")\n",
    "voxel_size = 0.5\n",
    "downpcd = pcd.voxel_down_sample(voxel_size)\n",
    "print(downpcd)\n",
    "\n",
    "print(\"->正在可视化下采样点云\")\n",
    "print(downpcd)\n",
    "o3d.visualization.draw_geometries([downpcd])"
   ]
  },
  {
   "cell_type": "markdown",
   "metadata": {},
   "source": [
    "mesh 方法"
   ]
  },
  {
   "cell_type": "code",
   "execution_count": 29,
   "metadata": {},
   "outputs": [
    {
     "name": "stdout",
     "output_type": "stream",
     "text": [
      "->Poisson surface reconstruction...\n",
      "run Poisson surface reconstruction\n",
      "[Open3D DEBUG] Input Points / Samples: 10000 / 10000\n",
      "[Open3D DEBUG] #   Got kernel density: 0.029 (s), 325.41 (MB) / 1603.63 (MB) / 3963 (MB)\n",
      "[Open3D DEBUG] #     Got normal field: 0.017 (s), 325.797 (MB) / 1603.63 (MB) / 3963 (MB)\n",
      "[Open3D DEBUG] Point weight / Estimated Area: 1.395311e-04 / 1.395311e+00\n",
      "[Open3D DEBUG] #       Finalized tree: 0.049 (s), 331.566 (MB) / 1603.63 (MB) / 3963 (MB)\n",
      "[Open3D DEBUG] #  Set FEM constraints: 0.0640001 (s), 329.055 (MB) / 1603.63 (MB) / 3963 (MB)\n",
      "[Open3D DEBUG] #Set point constraints: 0.0319998 (s), 329.09 (MB) / 1603.63 (MB) / 3963 (MB)\n",
      "[Open3D DEBUG] Leaf Nodes / Active Nodes / Ghost Nodes: 280435 / 164088 / 156409\n",
      "[Open3D DEBUG] Memory Usage: 329.090 MB\n",
      "[Open3D DEBUG] # Linear system solved: 0.889 (s), 349.812 (MB) / 1603.63 (MB) / 3963 (MB)\n",
      "[Open3D DEBUG] Got average: 0.00500011 (s), 337.254 (MB) / 1603.63 (MB) / 3963 (MB)\n",
      "[Open3D DEBUG] Iso-Value: 5.158620e-01 = 5.158621e+03 / 1.000000e+04\n",
      "[Open3D DEBUG] #          Total Solve:       1.6 (s),    1603.6 (MB)\n",
      "TriangleMesh with 18364 points and 36452 triangles.\n"
     ]
    }
   ],
   "source": [
    "\n",
    "\n",
    "# -------------------------- 定义点云体素化函数 ---------------------------\n",
    "def get_mesh(_relative_path):\n",
    "    mesh = o3d.io.read_triangle_mesh(_relative_path)\n",
    "    mesh.compute_vertex_normals()\n",
    "    return mesh\n",
    "# =====================================================================\n",
    "\n",
    "# -------------------- Poisson surface reconstruction ------------------\n",
    "# 加载点云\n",
    "print(\"->Poisson surface reconstruction...\")\n",
    "_relative_path = \"mesh_with_triangles.ply\"    # 设置相对路径\n",
    "N = 10000                        # 将点划分为N个体素\n",
    "pcd = get_mesh(_relative_path).sample_points_poisson_disk(N)\n",
    "pcd.normals = o3d.utility.Vector3dVector(np.zeros((1, 3)))  # 使现有法线无效\n",
    "\n",
    "# 法线估计\n",
    "pcd.estimate_normals()\n",
    "o3d.visualization.draw_geometries([pcd], point_show_normal=True)\n",
    "pcd.orient_normals_consistent_tangent_plane(100)\n",
    "o3d.visualization.draw_geometries([pcd], point_show_normal=True)\n",
    "\n",
    "# 泊松重建\n",
    "print('run Poisson surface reconstruction')\n",
    "with o3d.utility.VerbosityContextManager(\n",
    "        o3d.utility.VerbosityLevel.Debug) as cm:\n",
    "    mesh, densities = o3d.geometry.TriangleMesh.create_from_point_cloud_poisson(\n",
    "        pcd, depth=9)\n",
    "print(mesh)\n",
    "mesh.paint_uniform_color([0, 0, 1])\n",
    "o3d.visualization.draw_geometries([mesh])\n",
    "# =====================================================================\n"
   ]
  },
  {
   "cell_type": "code",
   "execution_count": 30,
   "metadata": {},
   "outputs": [],
   "source": [
    "mesh.paint_uniform_color([0, 0, 1])\n",
    "o3d.visualization.draw_geometries([mesh])"
   ]
  },
  {
   "cell_type": "markdown",
   "metadata": {},
   "source": [
    "点云的体素化"
   ]
  },
  {
   "cell_type": "code",
   "execution_count": 32,
   "metadata": {},
   "outputs": [
    {
     "name": "stdout",
     "output_type": "stream",
     "text": [
      "->正在进行点云体素化...\n",
      "体素下采样点云： PointCloud with 10000 points.\n",
      "正在可视化体素下采样点云...\n",
      "执行体素化点云\n",
      "正在可视化体素...\n"
     ]
    }
   ],
   "source": [
    "\n",
    "# ---------------------- 定义点云体素化函数 ----------------------\n",
    "def get_mesh(_relative_path):\n",
    "    mesh = o3d.io.read_triangle_mesh(_relative_path)\n",
    "    mesh.compute_vertex_normals()\n",
    "    return mesh\n",
    "# =============================================================\n",
    "\n",
    "# ------------------------- 点云体素化 --------------------------\n",
    "print(\"->正在进行点云体素化...\")\n",
    "_relative_path = \"mesh_with_triangles.ply\"    # 设置相对路径\n",
    "N = 10000        # 将点划分为N个体素\n",
    "pcd = get_mesh(_relative_path).sample_points_poisson_disk(N)\n",
    "\n",
    "# fit to unit cube\n",
    "pcd.scale(1 / np.max(pcd.get_max_bound() - pcd.get_min_bound()),\n",
    "          center=pcd.get_center())\n",
    "pcd.colors = o3d.utility.Vector3dVector(np.random.uniform(0, 1, size=(N, 3)))\n",
    "print(\"体素下采样点云：\", pcd)\n",
    "print(\"正在可视化体素下采样点云...\")\n",
    "o3d.visualization.draw_geometries([pcd])\n",
    "\n",
    "print('执行体素化点云')\n",
    "voxel_grid = o3d.geometry.VoxelGrid.create_from_point_cloud(pcd, voxel_size=0.05)\n",
    "print(\"正在可视化体素...\")\n",
    "o3d.visualization.draw_geometries([voxel_grid])\n",
    "# ===========================================================\n"
   ]
  }
 ],
 "metadata": {
  "kernelspec": {
   "display_name": "open3d",
   "language": "python",
   "name": "python3"
  },
  "language_info": {
   "codemirror_mode": {
    "name": "ipython",
    "version": 3
   },
   "file_extension": ".py",
   "mimetype": "text/x-python",
   "name": "python",
   "nbconvert_exporter": "python",
   "pygments_lexer": "ipython3",
   "version": "3.10.13"
  }
 },
 "nbformat": 4,
 "nbformat_minor": 2
}
